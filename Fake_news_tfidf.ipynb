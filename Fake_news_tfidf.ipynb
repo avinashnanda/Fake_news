{
  "nbformat": 4,
  "nbformat_minor": 0,
  "metadata": {
    "colab": {
      "name": "Fake_news_tfidf.ipynb",
      "provenance": [],
      "collapsed_sections": [
        "mqaWdjkDPQ0h",
        "nWBwauBQPKn0",
        "wEkw-uVrPeOZ"
      ],
      "include_colab_link": true
    },
    "kernelspec": {
      "name": "python3",
      "display_name": "Python 3"
    },
    "language_info": {
      "name": "python"
    }
  },
  "cells": [
    {
      "cell_type": "markdown",
      "metadata": {
        "id": "view-in-github",
        "colab_type": "text"
      },
      "source": [
        "<a href=\"https://colab.research.google.com/github/avinashnanda/Fake_news/blob/main/Fake_news_tfidf.ipynb\" target=\"_parent\"><img src=\"https://colab.research.google.com/assets/colab-badge.svg\" alt=\"Open In Colab\"/></a>"
      ]
    },
    {
      "cell_type": "code",
      "metadata": {
        "colab": {
          "base_uri": "https://localhost:8080/"
        },
        "id": "24skzF9TOKeq",
        "outputId": "f860e7f1-dc03-4d8a-a8bc-8a551421aca1"
      },
      "source": [
        "from google.colab import drive\n",
        "drive.mount('/content/drive')"
      ],
      "execution_count": null,
      "outputs": [
        {
          "output_type": "stream",
          "text": [
            "Mounted at /content/drive\n"
          ],
          "name": "stdout"
        }
      ]
    },
    {
      "cell_type": "markdown",
      "metadata": {
        "id": "mqaWdjkDPQ0h"
      },
      "source": [
        "# Import packages and load the data."
      ]
    },
    {
      "cell_type": "code",
      "metadata": {
        "id": "7rZkAu_cKUY9",
        "colab": {
          "base_uri": "https://localhost:8080/"
        },
        "outputId": "3e7de6d9-dd25-4379-d898-eaa17998698b"
      },
      "source": [
        "import pandas as pd\n",
        "import re\n",
        "import numpy as np\n",
        "from tqdm import tqdm\n",
        "from contractions import CONTRACTION_MAP\n",
        "from sklearn.metrics import confusion_matrix\n",
        "import nltk\n",
        "nltk.download('stopwords')\n",
        "nltk.download('wordnet')\n",
        "nltk.download('averaged_perceptron_tagger')\n",
        "from sklearn.metrics import f1_score,precision_score,recall_score\n",
        "import matplotlib\n",
        "nltk.download('punkt')\n",
        "from scipy import sparse\n",
        "from nltk.tokenize.toktok import ToktokTokenizer\n",
        "tokenizer = ToktokTokenizer()\n",
        "stopword_list = nltk.corpus.stopwords.words('english')\n",
        "stopword_list.remove('no')\n",
        "stopword_list.remove('not')\n",
        "from nltk.corpus import wordnet\n",
        "from nltk.stem import WordNetLemmatizer\n",
        "import matplotlib.pyplot as plt\n",
        "import unicodedata\n",
        "plt.rcParams['figure.figsize'] = (10,12 )\n",
        "plt.style.use('seaborn-whitegrid')\n",
        "plt.rcParams['axes.titlesize'] = 24\n",
        "plt.rcParams['axes.labelsize'] = 20\n",
        "plt.rcParams['lines.linewidth'] = 3\n",
        "plt.rcParams['lines.markersize'] = 10\n",
        "plt.rcParams['xtick.labelsize'] = 16\n",
        "plt.rcParams['ytick.labelsize'] = 16\n",
        "plt.rcParams[\"legend.loc\"] = 'best'\n",
        "import seaborn as sns"
      ],
      "execution_count": null,
      "outputs": [
        {
          "output_type": "stream",
          "text": [
            "[nltk_data] Downloading package stopwords to /root/nltk_data...\n",
            "[nltk_data]   Package stopwords is already up-to-date!\n",
            "[nltk_data] Downloading package wordnet to /root/nltk_data...\n",
            "[nltk_data]   Package wordnet is already up-to-date!\n",
            "[nltk_data] Downloading package averaged_perceptron_tagger to\n",
            "[nltk_data]     /root/nltk_data...\n",
            "[nltk_data]   Package averaged_perceptron_tagger is already up-to-\n",
            "[nltk_data]       date!\n",
            "[nltk_data] Downloading package punkt to /root/nltk_data...\n",
            "[nltk_data]   Package punkt is already up-to-date!\n"
          ],
          "name": "stdout"
        }
      ]
    },
    {
      "cell_type": "code",
      "metadata": {
        "id": "T8FAGM6COR8x"
      },
      "source": [
        "train = pd.read_csv(\"/content/drive/MyDrive/train.csv\")"
      ],
      "execution_count": null,
      "outputs": []
    },
    {
      "cell_type": "code",
      "metadata": {
        "id": "zR1dyl_tObPk"
      },
      "source": [
        "test = pd.read_csv(\"/content/drive/MyDrive/test.csv\")"
      ],
      "execution_count": null,
      "outputs": []
    },
    {
      "cell_type": "markdown",
      "metadata": {
        "id": "nWBwauBQPKn0"
      },
      "source": [
        "# Check the dataset size and dependent variable distribution.\n",
        "\n",
        "\n",
        "*   There is no class imbalance.\n",
        "\n"
      ]
    },
    {
      "cell_type": "code",
      "metadata": {
        "colab": {
          "base_uri": "https://localhost:8080/"
        },
        "id": "Gax1K1ZWOl1K",
        "outputId": "a709eb4e-24fe-41db-92e7-137ad2ca47f1"
      },
      "source": [
        "print(train.shape)\n",
        "print(test.shape)"
      ],
      "execution_count": null,
      "outputs": [
        {
          "output_type": "stream",
          "text": [
            "(20800, 5)\n",
            "(5200, 4)\n"
          ],
          "name": "stdout"
        }
      ]
    },
    {
      "cell_type": "code",
      "metadata": {
        "colab": {
          "base_uri": "https://localhost:8080/"
        },
        "id": "Cjp_Fi3tOR3J",
        "outputId": "a32bcc54-213a-4c5d-ec90-dc4e7695c6e6"
      },
      "source": [
        "train[\"label\"].value_counts()"
      ],
      "execution_count": null,
      "outputs": [
        {
          "output_type": "execute_result",
          "data": {
            "text/plain": [
              "1    10413\n",
              "0    10387\n",
              "Name: label, dtype: int64"
            ]
          },
          "metadata": {
            "tags": []
          },
          "execution_count": 10
        }
      ]
    },
    {
      "cell_type": "code",
      "metadata": {
        "colab": {
          "base_uri": "https://localhost:8080/",
          "height": 307
        },
        "id": "47dURTHAqak2",
        "outputId": "2dc2cd6e-6b6d-4b19-ad91-4a5446289cc3"
      },
      "source": [
        "plt.figure(figsize=(6, 4))\n",
        "sns.countplot(data = train,x=\"label\",order = train['label'].value_counts().index)\n",
        "plt.xticks(rotation=90)\n",
        "plt.xlabel('Categories')\n",
        "plt.ylabel('Number of fake news')\n",
        "plt.title('Count of number of news by category')\n",
        "plt.show()\n"
      ],
      "execution_count": null,
      "outputs": [
        {
          "output_type": "display_data",
          "data": {
            "image/png": "[encoded data removed]",
            "text/plain": [
              "<Figure size 432x288 with 1 Axes>"
            ]
          },
          "metadata": {
            "tags": []
          }
        }
      ]
    },
    {
      "cell_type": "markdown",
      "metadata": {
        "id": "wEkw-uVrPeOZ"
      },
      "source": [
        "# Analyzing and imputing NA\n",
        "\n",
        "* Impute Na with Unknown string"
      ]
    },
    {
      "cell_type": "code",
      "metadata": {
        "colab": {
          "base_uri": "https://localhost:8080/"
        },
        "id": "MPG45WzWOgZ4",
        "outputId": "9040f4a5-9f4d-47cc-c1d0-ff4da7788ad5"
      },
      "source": [
        "train.isnull().sum()"
      ],
      "execution_count": null,
      "outputs": [
        {
          "output_type": "execute_result",
          "data": {
            "text/plain": [
              "id           0\n",
              "title      558\n",
              "author    1957\n",
              "text        39\n",
              "label        0\n",
              "dtype: int64"
            ]
          },
          "metadata": {
            "tags": []
          },
          "execution_count": 12
        }
      ]
    },
    {
      "cell_type": "code",
      "metadata": {
        "colab": {
          "base_uri": "https://localhost:8080/"
        },
        "id": "6BpmFtYPOR5x",
        "outputId": "50825293-61d4-4cb7-d9c3-da78e84cd2ce"
      },
      "source": [
        "test.isnull().sum()"
      ],
      "execution_count": null,
      "outputs": [
        {
          "output_type": "execute_result",
          "data": {
            "text/plain": [
              "id          0\n",
              "title     122\n",
              "author    503\n",
              "text        7\n",
              "dtype: int64"
            ]
          },
          "metadata": {
            "tags": []
          },
          "execution_count": 13
        }
      ]
    },
    {
      "cell_type": "code",
      "metadata": {
        "id": "QxwudRQMT-YZ"
      },
      "source": [
        "train.fillna('Unknown',inplace=True)\n",
        "test.fillna('Unknown',inplace=True)"
      ],
      "execution_count": null,
      "outputs": []
    },
    {
      "cell_type": "markdown",
      "metadata": {
        "id": "cg4QR6FaYr1M"
      },
      "source": [
        "# **Define Helper Functions and Text preprocessing.**\n",
        "\n",
        "\n",
        "*   Defined my helper functions to do preprocessing like stop word removal,special character removal,lemmatization,word contractions and beautiful confusion matrix.\n",
        "*   Cleaned the text and appended to the respective dataframe for further processing."
      ]
    },
    {
      "cell_type": "code",
      "metadata": {
        "id": "vLQVH5Ky7S7b"
      },
      "source": [
        "def cm_analysis(y_true, y_pred, filename, labels, ymap=None, figsize=(10,10)):\n",
        "    \"\"\"\n",
        "    Generate matrix plot of confusion matrix with pretty annotations.\n",
        "    The plot image is saved to disk.\n",
        "    args: \n",
        "      y_true:    true label of the data, with shape (nsamples,)\n",
        "      y_pred:    prediction of the data, with shape (nsamples,)\n",
        "      filename:  filename of figure file to save\n",
        "      labels:    string array, name the order of class labels in the confusion matrix.\n",
        "                 use `clf.classes_` if using scikit-learn models.\n",
        "                 with shape (nclass,).\n",
        "      ymap:      dict: any -> string, length == nclass.\n",
        "                 if not None, map the labels & ys to more understandable strings.\n",
        "                 Caution: original y_true, y_pred and labels must align.\n",
        "      figsize:   the size of the figure plotted.\n",
        "    \"\"\"\n",
        "    if ymap is not None:\n",
        "        y_pred = [ymap[yi] for yi in y_pred]\n",
        "        y_true = [ymap[yi] for yi in y_true]\n",
        "        labels = [ymap[yi] for yi in labels]\n",
        "    cm = confusion_matrix(y_true, y_pred, labels=labels)\n",
        "    cm_sum = np.sum(cm, axis=1, keepdims=True)\n",
        "    cm_perc = cm / cm_sum.astype(float) * 100\n",
        "    annot = np.empty_like(cm).astype(str)\n",
        "    nrows, ncols = cm.shape\n",
        "    for i in range(nrows):\n",
        "        for j in range(ncols):\n",
        "            c = cm[i, j]\n",
        "            p = cm_perc[i, j]\n",
        "            if i == j:\n",
        "                s = cm_sum[i]\n",
        "                annot[i, j] = '%.1f%%\\n%d/%d' % (p, c, s)\n",
        "            elif c == 0:\n",
        "                annot[i, j] = ''\n",
        "            else:\n",
        "                annot[i, j] = '%.1f%%\\n%d' % (p, c)\n",
        "    cm = pd.DataFrame(cm, index=labels, columns=labels)\n",
        "    cm.index.name = 'Actual'\n",
        "    cm.columns.name = 'Predicted'\n",
        "    fig, ax = plt.subplots(figsize=figsize)\n",
        "    sns.heatmap(cm, annot=annot, fmt='', ax=ax,cmap = sns.color_palette(\"summer\"),cbar=False,linewidths=2, linecolor='black',annot_kws={\"size\":20})\n",
        "    plt.savefig(filename)"
      ],
      "execution_count": null,
      "outputs": []
    },
    {
      "cell_type": "code",
      "metadata": {
        "id": "XDvtXQ5uWfwd"
      },
      "source": [
        "def remove_accented_chars(text):\n",
        "    text = unicodedata.normalize('NFKD', text).encode('ascii', 'ignore').decode('utf-8', 'ignore')\n",
        "    return text\n",
        "def remove_urls(text):\n",
        "    url_pattern = re.compile(r'https?://\\S+')\n",
        "    return url_pattern.sub(r'', str(text))"
      ],
      "execution_count": null,
      "outputs": []
    },
    {
      "cell_type": "code",
      "metadata": {
        "id": "x3uP8zOOW-jt"
      },
      "source": [
        "def expand_contractions(text, contraction_mapping=CONTRACTION_MAP):\n",
        "    \n",
        "    contractions_pattern = re.compile('({})'.format('|'.join(contraction_mapping.keys())), \n",
        "                                      flags=re.IGNORECASE|re.DOTALL)\n",
        "    def expand_match(contraction):\n",
        "        match = contraction.group(0)\n",
        "        first_char = match[0]\n",
        "        expanded_contraction = contraction_mapping.get(match)\\\n",
        "                                if contraction_mapping.get(match)\\\n",
        "                                else contraction_mapping.get(match.lower())                       \n",
        "        expanded_contraction = first_char+expanded_contraction[1:]\n",
        "        return expanded_contraction\n",
        "        \n",
        "    expanded_text = contractions_pattern.sub(expand_match, text)\n",
        "    expanded_text = re.sub(\"'\", \"\", expanded_text)\n",
        "    return expanded_text"
      ],
      "execution_count": null,
      "outputs": []
    },
    {
      "cell_type": "code",
      "metadata": {
        "id": "IpUsfm4mYcG7"
      },
      "source": [
        "def remove_special_characters(text, remove_digits=False):\n",
        "    pattern = r'[^a-zA-z0-9\\s]' if not remove_digits else r'[^a-zA-z\\s]'\n",
        "    text = re.sub(pattern, '', text)\n",
        "    return text"
      ],
      "execution_count": null,
      "outputs": []
    },
    {
      "cell_type": "code",
      "metadata": {
        "id": "9PgaF81rYdhz"
      },
      "source": [
        "PUNCT_TO_REMOVE = '!\"#$%&\\'()*+,-./:;<=>?@[]^_`{|}~'\n",
        "def remove_punctuation(text):\n",
        "    \"\"\"custom function to remove the punctuation\"\"\"\n",
        "    return text.translate(str.maketrans('', '', PUNCT_TO_REMOVE))"
      ],
      "execution_count": null,
      "outputs": []
    },
    {
      "cell_type": "code",
      "metadata": {
        "colab": {
          "base_uri": "https://localhost:8080/",
          "height": 35
        },
        "id": "hcIQ2L1GYhOK",
        "outputId": "362726c7-e574-4b5b-9da5-ae0900c72624"
      },
      "source": [
        "def remove_stopwords(text, is_lower_case=False):\n",
        "    tokens = tokenizer.tokenize(text)\n",
        "    tokens = [token.strip() for token in tokens]\n",
        "    if is_lower_case:\n",
        "        filtered_tokens = [token for token in tokens if token not in stopword_list]\n",
        "    else:\n",
        "        filtered_tokens = [token for token in tokens if token.lower() not in stopword_list]\n",
        "    filtered_text = ' '.join(filtered_tokens)    \n",
        "    return filtered_text\n",
        "\n",
        "remove_stopwords(\"The, and, if are stopwords, computer is not\")"
      ],
      "execution_count": null,
      "outputs": [
        {
          "output_type": "execute_result",
          "data": {
            "application/vnd.google.colaboratory.intrinsic+json": {
              "type": "string"
            },
            "text/plain": [
              "', , stopwords , computer not'"
            ]
          },
          "metadata": {
            "tags": []
          },
          "execution_count": 16
        }
      ]
    },
    {
      "cell_type": "code",
      "metadata": {
        "id": "nShG2yPDYisD"
      },
      "source": [
        "lemmatizer = WordNetLemmatizer()\n",
        "wordnet_map = {\"N\":wordnet.NOUN, \"V\":wordnet.VERB, \"J\":wordnet.ADJ, \"R\":wordnet.ADV}\n",
        "def lemmatize_text(text):\n",
        "    pos_tagged_text = nltk.pos_tag(text.split())\n",
        "    return \" \".join([lemmatizer.lemmatize(word, wordnet_map.get(pos[0], wordnet.NOUN)) for word, pos in pos_tagged_text])"
      ],
      "execution_count": null,
      "outputs": []
    },
    {
      "cell_type": "code",
      "metadata": {
        "id": "jyo6PHo0YlaU"
      },
      "source": [
        "def normalize_corpus(corpus, html_stripping=True, contraction_expansion=True,url_remove =True,\n",
        "                     accented_char_removal=True, text_lower_case=True, \n",
        "                     text_lemmatization=True, special_char_removal=True, \n",
        "                     stopword_removal=True, remove_digits=True,tokenize=True):\n",
        "    \n",
        "    normalized_corpus = []\n",
        "    tokenized_texts = []\n",
        "    # normalize each document in the corpus\n",
        "    for doc in tqdm(corpus):\n",
        "        # strip HTML\n",
        "        if url_remove:\n",
        "            doc = remove_urls(doc)\n",
        "#         if html_stripping:\n",
        "#             doc = remove_html(doc)\n",
        "        # remove accented characters\n",
        "        if accented_char_removal:\n",
        "            doc = remove_accented_chars(doc)\n",
        "          \n",
        "        # lowercase the text \n",
        "        if text_lower_case:\n",
        "          doc = doc.lower()\n",
        "        # expand contractions    \n",
        "        if contraction_expansion:\n",
        "          doc = expand_contractions(doc)\n",
        "        # remove extra newlines\n",
        "\n",
        "        doc = re.sub(r'[\\r|\\n|\\r\\n]+', ' ',doc)\n",
        "        # map u.s to usa\n",
        "        doc = re.sub(r'u.s.', 'usa',doc)\n",
        "        # lemmatize text\n",
        "        if text_lemmatization:\n",
        "            doc = lemmatize_text(doc)\n",
        "        # remove special characters and\\or digits    \n",
        "        if special_char_removal:\n",
        "            # insert spaces between special characters to isolate them    \n",
        "            special_char_pattern = re.compile(r'([{.\\[(-):!}])')\n",
        "            doc = special_char_pattern.sub(\" \\\\1 \", doc)\n",
        "            doc = remove_special_characters(doc, remove_digits=remove_digits)\n",
        "            doc = remove_punctuation(doc)  \n",
        "        # remove extra whitespace\n",
        "        doc = re.sub(' +', ' ', doc)\n",
        "      \n",
        "        # remove stopwords\n",
        "        if stopword_removal:\n",
        "            doc = remove_stopwords(doc, is_lower_case=text_lower_case)\n",
        "        # change \\\\n to \\n\n",
        "        doc = re.sub(\"\\\\\\\\n\",\"\\n\",doc)\n",
        "                  \n",
        "        normalized_corpus.append(doc)\n",
        "        \n",
        "        if tokenize:\n",
        "             tokens = tokenizer.tokenize(doc)\n",
        "        tokenized_texts.append(tokens)\n",
        "        \n",
        "    return normalized_corpus,tokenized_texts"
      ],
      "execution_count": null,
      "outputs": []
    },
    {
      "cell_type": "code",
      "metadata": {
        "id": "eMR0dz6oY02s"
      },
      "source": [
        "# combine all 3 columns\n",
        "train['total_text']=train['title']+train['author']+train['text']\n",
        "test['total_text']=test['title']+test['author']+test['text']"
      ],
      "execution_count": null,
      "outputs": []
    },
    {
      "cell_type": "code",
      "metadata": {
        "colab": {
          "base_uri": "https://localhost:8080/"
        },
        "id": "DyNDR5BlYucU",
        "outputId": "d1e531ef-d3e6-47a3-9881-f09a84e16c41"
      },
      "source": [
        "#merge the cleaned text back to the df.\n",
        "a,b = normalize_corpus(test[\"total_text\"])\n",
        "test[\"clean_total_text\"] = a\n",
        "a,b = normalize_corpus(train[\"total_text\"])\n",
        "train[\"clean_total_text\"] = a"
      ],
      "execution_count": null,
      "outputs": [
        {
          "output_type": "stream",
          "text": [
            "100%|██████████| 5200/5200 [04:34<00:00, 18.91it/s]\n",
            "100%|██████████| 20800/20800 [17:57<00:00, 19.30it/s]\n"
          ],
          "name": "stderr"
        }
      ]
    },
    {
      "cell_type": "code",
      "metadata": {
        "id": "SOvfgDIFdyDB"
      },
      "source": [
        "# writting to csv to avoid rerunning\n",
        "test.to_csv(\"test_cleaned.csv\")\n",
        "train.to_csv(\"train_cleaned.csv\")"
      ],
      "execution_count": null,
      "outputs": []
    },
    {
      "cell_type": "markdown",
      "metadata": {
        "id": "eLqGGeXFnBYS"
      },
      "source": [
        "# Training logistic regression simple with hstack of char and word tfidf."
      ]
    },
    {
      "cell_type": "code",
      "metadata": {
        "id": "z9LNP8Rbr0M4"
      },
      "source": [
        "# Load cleaned data\n",
        "train = pd.read_csv(\"/content/drive/MyDrive/train_cleaned.csv\")\n",
        "test = pd.read_csv(\"/content/drive/MyDrive/test_cleaned.csv\")"
      ],
      "execution_count": null,
      "outputs": []
    },
    {
      "cell_type": "code",
      "metadata": {
        "id": "PcXoBJquv-Cv"
      },
      "source": [
        "train.fillna('Unknown',inplace=True)\n",
        "test.fillna('Unknown',inplace=True)"
      ],
      "execution_count": null,
      "outputs": []
    },
    {
      "cell_type": "code",
      "metadata": {
        "id": "eQOT2zUhZT78"
      },
      "source": [
        "from sklearn.model_selection import train_test_split,GridSearchCV,RandomizedSearchCV\n",
        "from scipy.sparse import hstack\n",
        "from sklearn import metrics\n",
        "from sklearn.metrics import confusion_matrix\n",
        "from sklearn.feature_extraction.text import CountVectorizer, TfidfVectorizer\n",
        "from sklearn.linear_model import LogisticRegression\n",
        "from sklearn.ensemble import RandomForestClassifier"
      ],
      "execution_count": null,
      "outputs": []
    },
    {
      "cell_type": "code",
      "metadata": {
        "id": "l9eY7suRwrSB"
      },
      "source": [
        "from sklearn.model_selection import train_test_split\n",
        "\n",
        "xtrain, xvalid, ytrain, yvalid = train_test_split(train[\"clean_total_text\"], \n",
        "                                                  train['label'],  \n",
        "                                                  random_state=42, \n",
        "                                                  test_size=0.2)"
      ],
      "execution_count": null,
      "outputs": []
    },
    {
      "cell_type": "code",
      "metadata": {
        "id": "MPW7u1f-eGpB",
        "colab": {
          "base_uri": "https://localhost:8080/"
        },
        "outputId": "0b421b3d-3fc2-40de-b59c-4360c549fa45"
      },
      "source": [
        "%%time\n",
        "word_vectorizer = TfidfVectorizer(\n",
        "    sublinear_tf=True,\n",
        "    strip_accents='unicode',\n",
        "    analyzer='word',\n",
        "    token_pattern=r'\\w{1,}',\n",
        "    stop_words='english',\n",
        "    ngram_range=(1, 2),\n",
        "    max_features=20000)\n",
        "word_vectorizer.fit(xtrain)\n",
        "train_word_features = word_vectorizer.transform(xtrain)\n",
        "val_word_features = word_vectorizer.transform(xvalid)\n",
        "test_word_features = word_vectorizer.transform(test[\"clean_total_text\"])"
      ],
      "execution_count": null,
      "outputs": [
        {
          "output_type": "stream",
          "text": [
            "CPU times: user 40 s, sys: 685 ms, total: 40.7 s\n",
            "Wall time: 40.6 s\n"
          ],
          "name": "stdout"
        }
      ]
    },
    {
      "cell_type": "code",
      "metadata": {
        "colab": {
          "base_uri": "https://localhost:8080/"
        },
        "id": "lQksld0PefSB",
        "outputId": "6ee6767c-b746-4b5d-8661-47b4c5bd75a3"
      },
      "source": [
        "%%time\n",
        "char_vectorizer = TfidfVectorizer(\n",
        "    sublinear_tf=True,\n",
        "    strip_accents='unicode',\n",
        "    analyzer='char',\n",
        "    ngram_range=(2, 6),\n",
        "    max_features=50000)\n",
        "char_vectorizer.fit(xtrain)\n",
        "train_char_features = char_vectorizer.transform(xtrain)\n",
        "val_char_features = char_vectorizer.transform(xvalid)\n",
        "test_char_features = char_vectorizer.transform(test[\"clean_total_text\"])"
      ],
      "execution_count": null,
      "outputs": [
        {
          "output_type": "stream",
          "text": [
            "CPU times: user 6min 32s, sys: 2.71 s, total: 6min 34s\n",
            "Wall time: 6min 34s\n"
          ],
          "name": "stdout"
        }
      ]
    },
    {
      "cell_type": "code",
      "metadata": {
        "id": "DiYlm02aeITa"
      },
      "source": [
        "#creating data for training\n",
        "train_features = hstack([train_char_features, train_word_features])\n",
        "#creating data for validation\n",
        "val_features = hstack([val_char_features, val_word_features])\n",
        "#creating test data\n",
        "test_features = hstack([test_char_features, test_word_features])"
      ],
      "execution_count": null,
      "outputs": []
    },
    {
      "cell_type": "code",
      "metadata": {
        "colab": {
          "base_uri": "https://localhost:8080/"
        },
        "id": "bG8XMiEReyzP",
        "outputId": "6a40033e-99a0-4fd1-e748-ca0df982ead4"
      },
      "source": [
        "logreg = LogisticRegression(class_weight=\"balanced\",max_iter=400)\n",
        "param = {'C':[0.3,1,2,3,4,5,6,7,8,9,10,15,20,25]}\n",
        "clf = GridSearchCV(logreg,param,refit=True,cv=3,n_jobs=-1)\n",
        "clf.fit(train_features,ytrain)\n",
        "print('Best F1: {:.4}, with best C: {}'.format(clf.best_score_, clf.best_params_))\n",
        "best_c = clf.best_params_['C']\n",
        "print(best_c)\n",
        "##see all the results\n",
        "results = pd.DataFrame(clf.cv_results_)"
      ],
      "execution_count": null,
      "outputs": [
        {
          "output_type": "stream",
          "text": [
            "Best F1: 0.9801, with best C: {'C': 25}\n",
            "25\n"
          ],
          "name": "stdout"
        }
      ]
    },
    {
      "cell_type": "code",
      "metadata": {
        "colab": {
          "base_uri": "https://localhost:8080/",
          "height": 667
        },
        "id": "D-rxL5qTx-Hj",
        "outputId": "beab38bb-69ff-4a78-83a5-6dbefb4f8130"
      },
      "source": [
        "## train using best parameter\n",
        "Clf2 = LogisticRegression(C=best_c,max_iter=400)\n",
        "Clf2.fit(train_features,ytrain)\n",
        "# predict on validation set\n",
        "val_pred = Clf2.predict(val_features)\n",
        "print('The model f1 score on the val set is {:.5f}.'.format(f1_score(yvalid, val_pred)))\n",
        "print('The model precision on the val set is {:.5f}.'.format(precision_score(yvalid, val_pred)))\n",
        "print('The model recall on the val set is {:.5f}.'.format(recall_score(yvalid, val_pred)))\n",
        "cm_analysis(yvalid, val_pred, \"abc.jpg\",labels=[0,1], ymap={0:'0',1: '1'}, figsize=(10,10))"
      ],
      "execution_count": null,
      "outputs": [
        {
          "output_type": "stream",
          "text": [
            "The model f1 score on the val set is 0.98295.\n",
            "The model precision on the val set is 0.98514.\n",
            "The model recall on the val set is 0.98077.\n"
          ],
          "name": "stdout"
        },
        {
          "output_type": "display_data",
          "data": {
            "image/png": "[encoded data removed]",
            "text/plain": [
              "<Figure size 720x720 with 1 Axes>"
            ]
          },
          "metadata": {
            "tags": []
          }
        }
      ]
    },
    {
      "cell_type": "markdown",
      "metadata": {
        "id": "axaLgNKxIQNA"
      },
      "source": [
        "The score after submitting in kaggle is:\n",
        "\n",
        "\n",
        "*   Private Score : 0.98351\n",
        "*   Public Score : 0.98205\n",
        "\n",
        "\n"
      ]
    },
    {
      "cell_type": "code",
      "metadata": {
        "id": "S_8DcCavjOV6"
      },
      "source": [
        "y_pred = Clf2.predict(test_features)\n",
        "sub = pd.read_csv(\"/content/drive/MyDrive/submit.csv\")\n",
        "sub[\"label\"]= y_pred\n",
        "sub.to_csv(\"submission_log_reg_v2.csv\",index=None)"
      ],
      "execution_count": null,
      "outputs": []
    },
    {
      "cell_type": "markdown",
      "metadata": {
        "id": "AxtePxaYIi2Y"
      },
      "source": [
        "# Random Forest"
      ]
    },
    {
      "cell_type": "code",
      "metadata": {
        "colab": {
          "base_uri": "https://localhost:8080/",
          "height": 667
        },
        "id": "3MeXkHl__DHR",
        "outputId": "f90b6f05-1e9f-4a66-a52b-3973b7426eb2"
      },
      "source": [
        "from sklearn.ensemble import RandomForestClassifier\n",
        "rf = RandomForestClassifier(n_jobs=-1,class_weight=\"balanced\",n_estimators=800)\n",
        "rf.fit(train_features,ytrain)\n",
        "val_pred_rf = rf.predict(val_features)\n",
        "print('The model f1 score on the val set is {:.5f}.'.format(f1_score(yvalid, val_pred_rf)))\n",
        "print('The model precision on the val set is {:.5f}.'.format(precision_score(yvalid, val_pred_rf)))\n",
        "print('The model recall on the val set is {:.5f}.'.format(recall_score(yvalid, val_pred_rf)))\n",
        "cm_analysis(yvalid, val_pred_rf, \"abc.jpg\",labels=[0,1], ymap={0:'0',1: '1'}, figsize=(10,10))"
      ],
      "execution_count": null,
      "outputs": [
        {
          "output_type": "stream",
          "text": [
            "The model f1 score on the val set is 0.96612.\n",
            "The model precision on the val set is 0.95518.\n",
            "The model recall on the val set is 0.97732.\n"
          ],
          "name": "stdout"
        },
        {
          "output_type": "display_data",
          "data": {
            "image/png": "[encoded data removed]",
            "text/plain": [
              "<Figure size 720x720 with 1 Axes>"
            ]
          },
          "metadata": {
            "tags": []
          }
        }
      ]
    },
    {
      "cell_type": "code",
      "metadata": {
        "id": "h0c_vlceLd2F"
      },
      "source": [
        "y_pred = rf.predict(test_features)\n",
        "sub = pd.read_csv(\"/content/drive/MyDrive/submit.csv\")\n",
        "sub[\"label\"]= y_pred\n",
        "sub.to_csv(\"submission_rf_v2.csv\",index=None)"
      ],
      "execution_count": null,
      "outputs": []
    },
    {
      "cell_type": "markdown",
      "metadata": {
        "id": "kFYuHy9tWDL6"
      },
      "source": [
        "The score after submitting in kaggle is:\n",
        "\n",
        "* Private Score : 0.96373\n",
        "* Public Score : 0.97179"
      ]
    }
  ]
}