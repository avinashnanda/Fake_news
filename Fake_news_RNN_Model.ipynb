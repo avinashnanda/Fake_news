{
  "nbformat": 4,
  "nbformat_minor": 0,
  "metadata": {
    "colab": {
      "name": "Fake_news_RNN_Model.ipynb",
      "provenance": [],
      "collapsed_sections": [],
      "include_colab_link": true
    },
    "kernelspec": {
      "name": "python3",
      "display_name": "Python 3"
    },
    "language_info": {
      "name": "python"
    }
  },
  "cells": [
    {
      "cell_type": "markdown",
      "metadata": {
        "id": "view-in-github",
        "colab_type": "text"
      },
      "source": [
        "<a href=\"https://colab.research.google.com/github/avinashnanda/Fake_news/blob/main/Fake_news_RNN_Model.ipynb\" target=\"_parent\"><img src=\"https://colab.research.google.com/assets/colab-badge.svg\" alt=\"Open In Colab\"/></a>"
      ]
    },
    {
      "cell_type": "code",
      "metadata": {
        "colab": {
          "base_uri": "https://localhost:8080/"
        },
        "id": "24skzF9TOKeq",
        "outputId": "1af93056-217c-4619-bb98-c8751fe9ecab"
      },
      "source": [
        "from google.colab import drive\n",
        "drive.mount('/content/drive')"
      ],
      "execution_count": 5,
      "outputs": [
        {
          "output_type": "stream",
          "text": [
            "Mounted at /content/drive\n"
          ],
          "name": "stdout"
        }
      ]
    },
    {
      "cell_type": "markdown",
      "metadata": {
        "id": "mqaWdjkDPQ0h"
      },
      "source": [
        "# Import packages and load the data."
      ]
    },
    {
      "cell_type": "code",
      "metadata": {
        "id": "7rZkAu_cKUY9",
        "colab": {
          "base_uri": "https://localhost:8080/"
        },
        "outputId": "5328d29f-0f4c-4128-ec0c-823c58407653"
      },
      "source": [
        "import pandas as pd\n",
        "import re\n",
        "import numpy as np\n",
        "from tqdm import tqdm\n",
        "from sklearn.metrics import confusion_matrix\n",
        "from contractions import CONTRACTION_MAP\n",
        "import nltk\n",
        "nltk.download('stopwords')\n",
        "nltk.download('wordnet')\n",
        "nltk.download('averaged_perceptron_tagger')\n",
        "from sklearn.metrics import f1_score,precision_score,recall_score\n",
        "import matplotlib\n",
        "nltk.download('punkt')\n",
        "from scipy import sparse\n",
        "from nltk.tokenize.toktok import ToktokTokenizer\n",
        "tokenizer = ToktokTokenizer()\n",
        "stopword_list = nltk.corpus.stopwords.words('english')\n",
        "stopword_list.remove('no')\n",
        "stopword_list.remove('not')\n",
        "from nltk.corpus import wordnet\n",
        "from nltk.stem import WordNetLemmatizer\n",
        "import matplotlib.pyplot as plt\n",
        "import unicodedata\n",
        "plt.rcParams['figure.figsize'] = (10,12 )\n",
        "plt.style.use('seaborn-whitegrid')\n",
        "plt.rcParams['axes.titlesize'] = 24\n",
        "plt.rcParams['axes.labelsize'] = 20\n",
        "plt.rcParams['lines.linewidth'] = 3\n",
        "plt.rcParams['lines.markersize'] = 10\n",
        "plt.rcParams['xtick.labelsize'] = 16\n",
        "plt.rcParams['ytick.labelsize'] = 16\n",
        "plt.rcParams[\"legend.loc\"] = 'best'\n",
        "import seaborn as sns"
      ],
      "execution_count": 6,
      "outputs": [
        {
          "output_type": "stream",
          "text": [
            "[nltk_data] Downloading package stopwords to /root/nltk_data...\n",
            "[nltk_data]   Package stopwords is already up-to-date!\n",
            "[nltk_data] Downloading package wordnet to /root/nltk_data...\n",
            "[nltk_data]   Package wordnet is already up-to-date!\n",
            "[nltk_data] Downloading package averaged_perceptron_tagger to\n",
            "[nltk_data]     /root/nltk_data...\n",
            "[nltk_data]   Package averaged_perceptron_tagger is already up-to-\n",
            "[nltk_data]       date!\n",
            "[nltk_data] Downloading package punkt to /root/nltk_data...\n",
            "[nltk_data]   Package punkt is already up-to-date!\n"
          ],
          "name": "stdout"
        }
      ]
    },
    {
      "cell_type": "code",
      "metadata": {
        "id": "T8FAGM6COR8x"
      },
      "source": [
        "train = pd.read_csv(\"/content/drive/MyDrive/train.csv\")"
      ],
      "execution_count": 7,
      "outputs": []
    },
    {
      "cell_type": "code",
      "metadata": {
        "id": "zR1dyl_tObPk"
      },
      "source": [
        "test = pd.read_csv(\"/content/drive/MyDrive/test.csv\")"
      ],
      "execution_count": 8,
      "outputs": []
    },
    {
      "cell_type": "markdown",
      "metadata": {
        "id": "nWBwauBQPKn0"
      },
      "source": [
        "# Check the dataset size and dependent variable distribution.\n",
        "\n",
        "\n",
        "*   There is no class imbalance.\n",
        "\n"
      ]
    },
    {
      "cell_type": "code",
      "metadata": {
        "colab": {
          "base_uri": "https://localhost:8080/"
        },
        "id": "Gax1K1ZWOl1K",
        "outputId": "1b4f9a00-6f16-44b6-b116-08f1428d3321"
      },
      "source": [
        "print(train.shape)\n",
        "print(test.shape)"
      ],
      "execution_count": 9,
      "outputs": [
        {
          "output_type": "stream",
          "text": [
            "(20800, 5)\n",
            "(5200, 4)\n"
          ],
          "name": "stdout"
        }
      ]
    },
    {
      "cell_type": "code",
      "metadata": {
        "colab": {
          "base_uri": "https://localhost:8080/"
        },
        "id": "Cjp_Fi3tOR3J",
        "outputId": "76342c64-ffe0-42d9-cac3-898a3c4fa3b9"
      },
      "source": [
        "train[\"label\"].value_counts()"
      ],
      "execution_count": 10,
      "outputs": [
        {
          "output_type": "execute_result",
          "data": {
            "text/plain": [
              "1    10413\n",
              "0    10387\n",
              "Name: label, dtype: int64"
            ]
          },
          "metadata": {
            "tags": []
          },
          "execution_count": 10
        }
      ]
    },
    {
      "cell_type": "code",
      "metadata": {
        "colab": {
          "base_uri": "https://localhost:8080/",
          "height": 307
        },
        "id": "47dURTHAqak2",
        "outputId": "cf7da34e-18f6-4934-a160-35e4b4af8ed8"
      },
      "source": [
        "plt.figure(figsize=(6, 4))\n",
        "sns.countplot(data = train,x=\"label\",order = train['label'].value_counts().index)\n",
        "plt.xticks(rotation=90)\n",
        "plt.xlabel('Categories')\n",
        "plt.ylabel('Number of fake news')\n",
        "plt.title('Count of number of news by category')\n",
        "plt.show()\n"
      ],
      "execution_count": 11,
      "outputs": [
        {
          "output_type": "display_data",
          "data": {
            "image/png": "[encoded data removed]",
            "text/plain": [
              "<Figure size 432x288 with 1 Axes>"
            ]
          },
          "metadata": {
            "tags": []
          }
        }
      ]
    },
    {
      "cell_type": "markdown",
      "metadata": {
        "id": "wEkw-uVrPeOZ"
      },
      "source": [
        "# Analyzing and imputing NA\n",
        "\n",
        "* Impute Na with Unknown string"
      ]
    },
    {
      "cell_type": "code",
      "metadata": {
        "colab": {
          "base_uri": "https://localhost:8080/"
        },
        "id": "MPG45WzWOgZ4",
        "outputId": "6905b345-55ab-44d3-b5a3-ff7f3ff7e930"
      },
      "source": [
        "train.isnull().sum()"
      ],
      "execution_count": 12,
      "outputs": [
        {
          "output_type": "execute_result",
          "data": {
            "text/plain": [
              "id           0\n",
              "title      558\n",
              "author    1957\n",
              "text        39\n",
              "label        0\n",
              "dtype: int64"
            ]
          },
          "metadata": {
            "tags": []
          },
          "execution_count": 12
        }
      ]
    },
    {
      "cell_type": "code",
      "metadata": {
        "colab": {
          "base_uri": "https://localhost:8080/"
        },
        "id": "6BpmFtYPOR5x",
        "outputId": "e225ad54-669b-4089-ae60-723b86cbf661"
      },
      "source": [
        "test.isnull().sum()"
      ],
      "execution_count": 13,
      "outputs": [
        {
          "output_type": "execute_result",
          "data": {
            "text/plain": [
              "id          0\n",
              "title     122\n",
              "author    503\n",
              "text        7\n",
              "dtype: int64"
            ]
          },
          "metadata": {
            "tags": []
          },
          "execution_count": 13
        }
      ]
    },
    {
      "cell_type": "code",
      "metadata": {
        "id": "QxwudRQMT-YZ"
      },
      "source": [
        "train.fillna('Unknown',inplace=True)\n",
        "test.fillna('Unknown',inplace=True)"
      ],
      "execution_count": 14,
      "outputs": []
    },
    {
      "cell_type": "markdown",
      "metadata": {
        "id": "cg4QR6FaYr1M"
      },
      "source": [
        "# **Define Helper Functions and Text preprocessing.**\n",
        "\n",
        "\n",
        "*   Defined my helper functions to do preprocessing like stop word removal,special character removal,lemmatization,word contractions and beautiful confusion matrix.\n",
        "* Combined title and author columns.\n",
        "*   Cleaned the text and appended to the respective dataframe for further processing."
      ]
    },
    {
      "cell_type": "code",
      "metadata": {
        "id": "vLQVH5Ky7S7b"
      },
      "source": [
        "def cm_analysis(y_true, y_pred, filename, labels, ymap=None, figsize=(10,10)):\n",
        "    \"\"\"\n",
        "    Generate matrix plot of confusion matrix with pretty annotations.\n",
        "    The plot image is saved to disk.\n",
        "    args: \n",
        "      y_true:    true label of the data, with shape (nsamples,)\n",
        "      y_pred:    prediction of the data, with shape (nsamples,)\n",
        "      filename:  filename of figure file to save\n",
        "      labels:    string array, name the order of class labels in the confusion matrix.\n",
        "                 use `clf.classes_` if using scikit-learn models.\n",
        "                 with shape (nclass,).\n",
        "      ymap:      dict: any -> string, length == nclass.\n",
        "                 if not None, map the labels & ys to more understandable strings.\n",
        "                 Caution: original y_true, y_pred and labels must align.\n",
        "      figsize:   the size of the figure plotted.\n",
        "    \"\"\"\n",
        "    if ymap is not None:\n",
        "        y_pred = [ymap[yi] for yi in y_pred]\n",
        "        y_true = [ymap[yi] for yi in y_true]\n",
        "        labels = [ymap[yi] for yi in labels]\n",
        "    cm = confusion_matrix(y_true, y_pred, labels=labels)\n",
        "    cm_sum = np.sum(cm, axis=1, keepdims=True)\n",
        "    cm_perc = cm / cm_sum.astype(float) * 100\n",
        "    annot = np.empty_like(cm).astype(str)\n",
        "    nrows, ncols = cm.shape\n",
        "    for i in range(nrows):\n",
        "        for j in range(ncols):\n",
        "            c = cm[i, j]\n",
        "            p = cm_perc[i, j]\n",
        "            if i == j:\n",
        "                s = cm_sum[i]\n",
        "                annot[i, j] = '%.1f%%\\n%d/%d' % (p, c, s)\n",
        "            elif c == 0:\n",
        "                annot[i, j] = ''\n",
        "            else:\n",
        "                annot[i, j] = '%.1f%%\\n%d' % (p, c)\n",
        "    cm = pd.DataFrame(cm, index=labels, columns=labels)\n",
        "    cm.index.name = 'Actual'\n",
        "    cm.columns.name = 'Predicted'\n",
        "    fig, ax = plt.subplots(figsize=figsize)\n",
        "    sns.heatmap(cm, annot=annot, fmt='', ax=ax,cmap = sns.color_palette(\"summer\"),cbar=False,linewidths=2, linecolor='black',annot_kws={\"size\":20})\n",
        "    plt.savefig(filename)"
      ],
      "execution_count": 35,
      "outputs": []
    },
    {
      "cell_type": "code",
      "metadata": {
        "id": "XDvtXQ5uWfwd"
      },
      "source": [
        "def remove_accented_chars(text):\n",
        "    text = unicodedata.normalize('NFKD', text).encode('ascii', 'ignore').decode('utf-8', 'ignore')\n",
        "    return text\n",
        "def remove_urls(text):\n",
        "    url_pattern = re.compile(r'https?://\\S+')\n",
        "    return url_pattern.sub(r'', str(text))"
      ],
      "execution_count": 15,
      "outputs": []
    },
    {
      "cell_type": "code",
      "metadata": {
        "id": "x3uP8zOOW-jt"
      },
      "source": [
        "def expand_contractions(text, contraction_mapping=CONTRACTION_MAP):\n",
        "    \n",
        "    contractions_pattern = re.compile('({})'.format('|'.join(contraction_mapping.keys())), \n",
        "                                      flags=re.IGNORECASE|re.DOTALL)\n",
        "    def expand_match(contraction):\n",
        "        match = contraction.group(0)\n",
        "        first_char = match[0]\n",
        "        expanded_contraction = contraction_mapping.get(match)\\\n",
        "                                if contraction_mapping.get(match)\\\n",
        "                                else contraction_mapping.get(match.lower())                       \n",
        "        expanded_contraction = first_char+expanded_contraction[1:]\n",
        "        return expanded_contraction\n",
        "        \n",
        "    expanded_text = contractions_pattern.sub(expand_match, text)\n",
        "    expanded_text = re.sub(\"'\", \"\", expanded_text)\n",
        "    return expanded_text"
      ],
      "execution_count": 16,
      "outputs": []
    },
    {
      "cell_type": "code",
      "metadata": {
        "id": "IpUsfm4mYcG7"
      },
      "source": [
        "def remove_special_characters(text, remove_digits=False):\n",
        "    pattern = r'[^a-zA-z0-9\\s]' if not remove_digits else r'[^a-zA-z\\s]'\n",
        "    text = re.sub(pattern, '', text)\n",
        "    return text"
      ],
      "execution_count": 17,
      "outputs": []
    },
    {
      "cell_type": "code",
      "metadata": {
        "id": "9PgaF81rYdhz"
      },
      "source": [
        "PUNCT_TO_REMOVE = '!\"#$%&\\'()*+,-./:;<=>?@[]^_`{|}~'\n",
        "def remove_punctuation(text):\n",
        "    \"\"\"custom function to remove the punctuation\"\"\"\n",
        "    return text.translate(str.maketrans('', '', PUNCT_TO_REMOVE))"
      ],
      "execution_count": 18,
      "outputs": []
    },
    {
      "cell_type": "code",
      "metadata": {
        "colab": {
          "base_uri": "https://localhost:8080/",
          "height": 35
        },
        "id": "hcIQ2L1GYhOK",
        "outputId": "a207974f-dddd-4950-e5cc-7c4550b75079"
      },
      "source": [
        "def remove_stopwords(text, is_lower_case=False):\n",
        "    tokens = tokenizer.tokenize(text)\n",
        "    tokens = [token.strip() for token in tokens]\n",
        "    if is_lower_case:\n",
        "        filtered_tokens = [token for token in tokens if token not in stopword_list]\n",
        "    else:\n",
        "        filtered_tokens = [token for token in tokens if token.lower() not in stopword_list]\n",
        "    filtered_text = ' '.join(filtered_tokens)    \n",
        "    return filtered_text\n",
        "\n",
        "remove_stopwords(\"The, and, if are stopwords, computer is not\")"
      ],
      "execution_count": 19,
      "outputs": [
        {
          "output_type": "execute_result",
          "data": {
            "application/vnd.google.colaboratory.intrinsic+json": {
              "type": "string"
            },
            "text/plain": [
              "', , stopwords , computer not'"
            ]
          },
          "metadata": {
            "tags": []
          },
          "execution_count": 19
        }
      ]
    },
    {
      "cell_type": "code",
      "metadata": {
        "id": "nShG2yPDYisD"
      },
      "source": [
        "lemmatizer = WordNetLemmatizer()\n",
        "wordnet_map = {\"N\":wordnet.NOUN, \"V\":wordnet.VERB, \"J\":wordnet.ADJ, \"R\":wordnet.ADV}\n",
        "def lemmatize_text(text):\n",
        "    pos_tagged_text = nltk.pos_tag(text.split())\n",
        "    return \" \".join([lemmatizer.lemmatize(word, wordnet_map.get(pos[0], wordnet.NOUN)) for word, pos in pos_tagged_text])"
      ],
      "execution_count": 20,
      "outputs": []
    },
    {
      "cell_type": "code",
      "metadata": {
        "id": "jyo6PHo0YlaU"
      },
      "source": [
        "def normalize_corpus(corpus, html_stripping=True, contraction_expansion=True,url_remove =True,\n",
        "                     accented_char_removal=True, text_lower_case=True, \n",
        "                     text_lemmatization=True, special_char_removal=True, \n",
        "                     stopword_removal=True, remove_digits=True,tokenize=True):\n",
        "    \n",
        "    normalized_corpus = []\n",
        "    tokenized_texts = []\n",
        "    # normalize each document in the corpus\n",
        "    for doc in tqdm(corpus):\n",
        "        # strip HTML\n",
        "        if url_remove:\n",
        "            doc = remove_urls(doc)\n",
        "#         if html_stripping:\n",
        "#             doc = remove_html(doc)\n",
        "        # remove accented characters\n",
        "        if accented_char_removal:\n",
        "            doc = remove_accented_chars(doc)\n",
        "          \n",
        "        # lowercase the text \n",
        "        if text_lower_case:\n",
        "          doc = doc.lower()\n",
        "        # expand contractions    \n",
        "        if contraction_expansion:\n",
        "          doc = expand_contractions(doc)\n",
        "        # remove extra newlines\n",
        "\n",
        "        doc = re.sub(r'[\\r|\\n|\\r\\n]+', ' ',doc)\n",
        "        # map u.s to usa\n",
        "        doc = re.sub(r'u.s.', 'usa',doc)\n",
        "        # lemmatize text\n",
        "        if text_lemmatization:\n",
        "            doc = lemmatize_text(doc)\n",
        "        # remove special characters and\\or digits    \n",
        "        if special_char_removal:\n",
        "            # insert spaces between special characters to isolate them    \n",
        "            special_char_pattern = re.compile(r'([{.\\[(-):!}])')\n",
        "            doc = special_char_pattern.sub(\" \\\\1 \", doc)\n",
        "            doc = remove_special_characters(doc, remove_digits=remove_digits)\n",
        "            doc = remove_punctuation(doc)  \n",
        "        # remove extra whitespace\n",
        "        doc = re.sub(' +', ' ', doc)\n",
        "      \n",
        "        # remove stopwords\n",
        "        if stopword_removal:\n",
        "            doc = remove_stopwords(doc, is_lower_case=text_lower_case)\n",
        "        # change \\\\n to \\n\n",
        "        doc = re.sub(\"\\\\\\\\n\",\"\\n\",doc)\n",
        "                  \n",
        "        normalized_corpus.append(doc)\n",
        "        \n",
        "        if tokenize:\n",
        "             tokens = tokenizer.tokenize(doc)\n",
        "        tokenized_texts.append(tokens)\n",
        "        \n",
        "    return normalized_corpus,tokenized_texts"
      ],
      "execution_count": 21,
      "outputs": []
    },
    {
      "cell_type": "code",
      "metadata": {
        "id": "eMR0dz6oY02s"
      },
      "source": [
        "train['total_text']=train['title']+train['author']\n",
        "test['total_text']=test['title']+test['author']"
      ],
      "execution_count": 22,
      "outputs": []
    },
    {
      "cell_type": "code",
      "metadata": {
        "colab": {
          "base_uri": "https://localhost:8080/"
        },
        "id": "DyNDR5BlYucU",
        "outputId": "ede0031c-84ed-4a76-974c-2bce60588d73"
      },
      "source": [
        "a,b = normalize_corpus(test[\"total_text\"])\n",
        "test[\"clean_total_text\"] = a\n",
        "a,b = normalize_corpus(train[\"total_text\"])\n",
        "train[\"clean_total_text\"] = a"
      ],
      "execution_count": 23,
      "outputs": [
        {
          "output_type": "stream",
          "text": [
            "100%|██████████| 5200/5200 [00:07<00:00, 657.91it/s]\n",
            "100%|██████████| 20800/20800 [00:31<00:00, 663.16it/s]\n"
          ],
          "name": "stderr"
        }
      ]
    },
    {
      "cell_type": "markdown",
      "metadata": {
        "id": "qBJMZNeMN2L-"
      },
      "source": [
        "# Deep Learning model\n",
        "\n",
        "* Split the train dataset to train and validation.\n",
        "* Defined a bidirection GRU model for training.\n",
        "* Used early stopping and model checkpoint callbacks.\n",
        "\n",
        "\n",
        "\n"
      ]
    },
    {
      "cell_type": "code",
      "metadata": {
        "id": "8H2VMr34SX8R"
      },
      "source": [
        "import gc\n",
        "import sys\n",
        "import keras\n",
        "from sklearn import metrics\n",
        "from keras.preprocessing.text import Tokenizer\n",
        "from keras.preprocessing.sequence import pad_sequences\n",
        "from keras.layers import Dense, Input, LSTM, Embedding, Dropout, Activation,GRU\n",
        "from keras.layers import Bidirectional, GlobalMaxPool1D\n",
        "from keras.models import Model\n",
        "from keras.callbacks import ModelCheckpoint"
      ],
      "execution_count": 25,
      "outputs": []
    },
    {
      "cell_type": "code",
      "metadata": {
        "id": "fTo5MGegPQAH"
      },
      "source": [
        "from sklearn.model_selection import train_test_split\n",
        "\n",
        "xtrain, xvalid, ytrain, yvalid = train_test_split(train, \n",
        "                                                  train['label'],  \n",
        "                                                  random_state=42, \n",
        "                                                  test_size=0.2)"
      ],
      "execution_count": 26,
      "outputs": []
    },
    {
      "cell_type": "code",
      "metadata": {
        "colab": {
          "base_uri": "https://localhost:8080/"
        },
        "id": "AXU6_Z_1N6Lm",
        "outputId": "6c011c4f-00ee-4fc4-87b4-77f894bf1fe9"
      },
      "source": [
        "wordcounts = []\n",
        "for sentence in xtrain[\"clean_total_text\"]:\n",
        "  words = sentence.split(' ')\n",
        "  wordcounts.append(len(words))\n",
        "  average_wordcount = sum(wordcounts)/len(wordcounts)\n",
        "average_wordcount"
      ],
      "execution_count": 27,
      "outputs": [
        {
          "output_type": "execute_result",
          "data": {
            "text/plain": [
              "9.61905048076923"
            ]
          },
          "metadata": {
            "tags": []
          },
          "execution_count": 27
        }
      ]
    },
    {
      "cell_type": "code",
      "metadata": {
        "colab": {
          "base_uri": "https://localhost:8080/"
        },
        "id": "5d30XDYMOC4X",
        "outputId": "ba7c5470-a72e-4244-93d5-4e3299ff7b73"
      },
      "source": [
        "from collections import Counter\n",
        "cnt = Counter()\n",
        "for text in train[\"clean_total_text\"].values:\n",
        "    for word in text.split():\n",
        "        cnt[word] += 1\n",
        "len(cnt.keys())"
      ],
      "execution_count": 28,
      "outputs": [
        {
          "output_type": "execute_result",
          "data": {
            "text/plain": [
              "30491"
            ]
          },
          "metadata": {
            "tags": []
          },
          "execution_count": 28
        }
      ]
    },
    {
      "cell_type": "code",
      "metadata": {
        "id": "s1qvvPuVOJQP"
      },
      "source": [
        "## some config values \n",
        "embed_size = 300 # how big is each word vector\n",
        "max_features = 30000 # how many unique words to use (i.e num rows in embedding vector)\n",
        "maxlen = 30 # max number of words in a question to use\n",
        "\n",
        "## fill up the missing values\n",
        "train_X = xtrain[\"clean_total_text\"].fillna(\"_na_\").values\n",
        "val_X = xvalid[\"clean_total_text\"].fillna(\"_na_\").values\n",
        "test_X = test[\"clean_total_text\"].fillna(\"_na_\").values\n",
        "\n",
        "## Tokenize the sentences\n",
        "tokenizer = Tokenizer(num_words=max_features)\n",
        "tokenizer.fit_on_texts(list(train_X))\n",
        "train_X = tokenizer.texts_to_sequences(train_X)\n",
        "val_X = tokenizer.texts_to_sequences(val_X)\n",
        "test_X = tokenizer.texts_to_sequences(test_X)\n",
        "\n",
        "## Pad the sentences \n",
        "train_X = pad_sequences(train_X, maxlen=maxlen)\n",
        "val_X = pad_sequences(val_X, maxlen=maxlen)\n",
        "test_X = pad_sequences(test_X, maxlen=maxlen)"
      ],
      "execution_count": 29,
      "outputs": []
    },
    {
      "cell_type": "code",
      "metadata": {
        "id": "jRVzuDRtTO4j"
      },
      "source": [
        "train_y = np.array(xtrain[\"label\"])\n",
        "val_y = np.array(xvalid[\"label\"])"
      ],
      "execution_count": 30,
      "outputs": []
    },
    {
      "cell_type": "code",
      "metadata": {
        "colab": {
          "base_uri": "https://localhost:8080/"
        },
        "id": "CXL399xUSIz5",
        "outputId": "351fd337-090c-4e8d-98ea-b69248e1141c"
      },
      "source": [
        "inp = Input(shape=(maxlen,))\n",
        "x = Embedding(max_features, embed_size)(inp)\n",
        "x = Bidirectional(GRU(128, return_sequences=True))(x)\n",
        "x = GlobalMaxPool1D()(x)\n",
        "x = Dense(128, activation=\"relu\")(x)\n",
        "x = Dropout(0.4)(x)\n",
        "x = Dense(1, activation=\"sigmoid\")(x)\n",
        "model = Model(inputs=inp, outputs=x)\n",
        "model.compile(loss='binary_crossentropy', optimizer='adam', metrics=['accuracy'])\n",
        "\n",
        "print(model.summary())"
      ],
      "execution_count": 31,
      "outputs": [
        {
          "output_type": "stream",
          "text": [
            "Model: \"model\"\n",
            "_________________________________________________________________\n",
            "Layer (type)                 Output Shape              Param #   \n",
            "=================================================================\n",
            "input_1 (InputLayer)         [(None, 30)]              0         \n",
            "_________________________________________________________________\n",
            "embedding (Embedding)        (None, 30, 300)           9000000   \n",
            "_________________________________________________________________\n",
            "bidirectional (Bidirectional (None, 30, 256)           330240    \n",
            "_________________________________________________________________\n",
            "global_max_pooling1d (Global (None, 256)               0         \n",
            "_________________________________________________________________\n",
            "dense (Dense)                (None, 128)               32896     \n",
            "_________________________________________________________________\n",
            "dropout (Dropout)            (None, 128)               0         \n",
            "_________________________________________________________________\n",
            "dense_1 (Dense)              (None, 1)                 129       \n",
            "=================================================================\n",
            "Total params: 9,363,265\n",
            "Trainable params: 9,363,265\n",
            "Non-trainable params: 0\n",
            "_________________________________________________________________\n",
            "None\n"
          ],
          "name": "stdout"
        }
      ]
    },
    {
      "cell_type": "code",
      "metadata": {
        "id": "vnGN6engUKpB"
      },
      "source": [
        "from keras.callbacks import ModelCheckpoint,EarlyStopping\n",
        "def callbacks():\n",
        "  checkpoint = ModelCheckpoint(\n",
        "      'model.h5', \n",
        "      monitor='val_accuracy', \n",
        "      verbose=1, \n",
        "      save_best_only=True, \n",
        "      mode='auto'\n",
        "  )\n",
        "\n",
        "  early_stop = EarlyStopping(\n",
        "          monitor     = 'val_accuracy', \n",
        "          patience    = 10, \n",
        "          mode        = 'auto', \n",
        "          verbose     = 1,\n",
        "      restore_best_weights = True\n",
        "      \n",
        "      )\n",
        "  return checkpoint,early_stop\n",
        "\n",
        "checkpoint,early_stop = callbacks()"
      ],
      "execution_count": 32,
      "outputs": []
    },
    {
      "cell_type": "code",
      "metadata": {
        "colab": {
          "base_uri": "https://localhost:8080/"
        },
        "id": "moMEXSgFT6g6",
        "outputId": "b78f0e06-22f1-4bfe-89ab-e2226e85eacc"
      },
      "source": [
        "## Train the model \n",
        "\n",
        "history =  model.fit(train_X,train_y, batch_size=256, epochs=50,validation_data=(val_X, val_y),callbacks = [checkpoint,early_stop])"
      ],
      "execution_count": 33,
      "outputs": [
        {
          "output_type": "stream",
          "text": [
            "Epoch 1/50\n",
            "65/65 [==============================] - 62s 600ms/step - loss: 0.4523 - accuracy: 0.8060 - val_loss: 0.0439 - val_accuracy: 0.9870\n",
            "\n",
            "Epoch 00001: val_accuracy improved from -inf to 0.98702, saving model to model.h5\n",
            "Epoch 2/50\n",
            "65/65 [==============================] - 37s 562ms/step - loss: 0.0104 - accuracy: 0.9970 - val_loss: 0.0360 - val_accuracy: 0.9906\n",
            "\n",
            "Epoch 00002: val_accuracy improved from 0.98702 to 0.99063, saving model to model.h5\n",
            "Epoch 3/50\n",
            "65/65 [==============================] - 39s 595ms/step - loss: 0.0017 - accuracy: 0.9997 - val_loss: 0.0480 - val_accuracy: 0.9868\n",
            "\n",
            "Epoch 00003: val_accuracy did not improve from 0.99063\n",
            "Epoch 4/50\n",
            "65/65 [==============================] - 37s 569ms/step - loss: 1.1364e-04 - accuracy: 1.0000 - val_loss: 0.0573 - val_accuracy: 0.9861\n",
            "\n",
            "Epoch 00004: val_accuracy did not improve from 0.99063\n",
            "Epoch 5/50\n",
            "65/65 [==============================] - 37s 569ms/step - loss: 6.2581e-05 - accuracy: 1.0000 - val_loss: 0.0632 - val_accuracy: 0.9861\n",
            "\n",
            "Epoch 00005: val_accuracy did not improve from 0.99063\n",
            "Epoch 6/50\n",
            "65/65 [==============================] - 37s 569ms/step - loss: 3.6420e-05 - accuracy: 1.0000 - val_loss: 0.0690 - val_accuracy: 0.9861\n",
            "\n",
            "Epoch 00006: val_accuracy did not improve from 0.99063\n",
            "Epoch 7/50\n",
            "65/65 [==============================] - 37s 566ms/step - loss: 2.1237e-05 - accuracy: 1.0000 - val_loss: 0.0708 - val_accuracy: 0.9861\n",
            "\n",
            "Epoch 00007: val_accuracy did not improve from 0.99063\n",
            "Epoch 8/50\n",
            "65/65 [==============================] - 37s 563ms/step - loss: 1.4553e-05 - accuracy: 1.0000 - val_loss: 0.0761 - val_accuracy: 0.9863\n",
            "\n",
            "Epoch 00008: val_accuracy did not improve from 0.99063\n",
            "Epoch 9/50\n",
            "65/65 [==============================] - 37s 567ms/step - loss: 1.0405e-05 - accuracy: 1.0000 - val_loss: 0.0771 - val_accuracy: 0.9863\n",
            "\n",
            "Epoch 00009: val_accuracy did not improve from 0.99063\n",
            "Epoch 10/50\n",
            "65/65 [==============================] - 37s 566ms/step - loss: 1.0113e-05 - accuracy: 1.0000 - val_loss: 0.0777 - val_accuracy: 0.9863\n",
            "\n",
            "Epoch 00010: val_accuracy did not improve from 0.99063\n",
            "Epoch 11/50\n",
            "65/65 [==============================] - 37s 566ms/step - loss: 7.2011e-06 - accuracy: 1.0000 - val_loss: 0.0831 - val_accuracy: 0.9853\n",
            "\n",
            "Epoch 00011: val_accuracy did not improve from 0.99063\n",
            "Epoch 12/50\n",
            "65/65 [==============================] - 37s 564ms/step - loss: 5.4334e-06 - accuracy: 1.0000 - val_loss: 0.0856 - val_accuracy: 0.9846\n",
            "\n",
            "Epoch 00012: val_accuracy did not improve from 0.99063\n",
            "Restoring model weights from the end of the best epoch.\n",
            "Epoch 00012: early stopping\n"
          ],
          "name": "stdout"
        }
      ]
    },
    {
      "cell_type": "code",
      "metadata": {
        "colab": {
          "base_uri": "https://localhost:8080/",
          "height": 748
        },
        "id": "KPjBTxdfqsN0",
        "outputId": "86cd6a9d-7d25-4907-8028-be6e38193f47"
      },
      "source": [
        "def plot_acc(history):\n",
        "    plt.plot(history.history['accuracy'])\n",
        "    plt.plot(history.history['val_accuracy'])\n",
        "    plt.title('Model accuracy')\n",
        "    plt.ylabel('Accuracy')\n",
        "    plt.xlabel('epoch')\n",
        "    plt.legend(['Train, Test'], loc=0)\n",
        "\n",
        "plot_acc(history)\n",
        "plt.show()\n"
      ],
      "execution_count": 40,
      "outputs": [
        {
          "output_type": "display_data",
          "data": {
            "image/png": "[encoded data removed]",
            "text/plain": [
              "<Figure size 720x864 with 1 Axes>"
            ]
          },
          "metadata": {
            "tags": []
          }
        }
      ]
    },
    {
      "cell_type": "code",
      "metadata": {
        "colab": {
          "base_uri": "https://localhost:8080/",
          "height": 667
        },
        "id": "HdqDd6GzrcJf",
        "outputId": "6c1654aa-8792-4d61-fb6e-dfd3ff8852de"
      },
      "source": [
        "val_pred = model.predict(val_X)\n",
        "val_pred = (val_pred > 0.5).astype('int64')\n",
        "val_pred = val_pred.reshape((4160,))\n",
        "print('The model f1 score on the val set is {:.5f}.'.format(f1_score(yvalid, val_pred)))\n",
        "print('The model precision on the val set is {:.5f}.'.format(precision_score(yvalid, val_pred)))\n",
        "print('The model recall on the val set is {:.5f}.'.format(recall_score(yvalid, val_pred)))\n",
        "cm_analysis(xvalid[\"label\"], val_pred, \"abc.jpg\",labels=[0,1], ymap={0:'0',1: '1'}, figsize=(10,10))"
      ],
      "execution_count": 36,
      "outputs": [
        {
          "output_type": "stream",
          "text": [
            "The model f1 score on the val set is 0.99041.\n",
            "The model precision on the val set is 0.98822.\n",
            "The model recall on the val set is 0.99260.\n"
          ],
          "name": "stdout"
        },
        {
          "output_type": "display_data",
          "data": {
            "image/png": "[encoded data removed]",
            "text/plain": [
              "<Figure size 720x720 with 1 Axes>"
            ]
          },
          "metadata": {
            "tags": []
          }
        }
      ]
    },
    {
      "cell_type": "code",
      "metadata": {
        "id": "3mVHHWCMpjI2"
      },
      "source": [
        "y_pred = model.predict(test_X)\n",
        "y_pred = (y_pred > 0.5).astype('int64')\n",
        "y_pred = y_pred.reshape((y_pred.shape[0],))\n",
        "sub = pd.read_csv(\"/content/drive/MyDrive/submit.csv\")\n",
        "sub[\"label\"]= y_pred\n",
        "sub.to_csv(\"submission_lstm_v1.csv\",index=None)"
      ],
      "execution_count": 37,
      "outputs": []
    },
    {
      "cell_type": "markdown",
      "metadata": {
        "id": "Hrf0lo_5huiK"
      },
      "source": [
        "* Private Score: 0.99313\n",
        "*\tPublic Score: 0.99102\n"
      ]
    }
  ]
}